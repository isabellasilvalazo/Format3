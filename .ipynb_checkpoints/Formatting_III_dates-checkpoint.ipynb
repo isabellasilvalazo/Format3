{
 "cells": [
  {
   "cell_type": "markdown",
   "id": "402943b1",
   "metadata": {},
   "source": [
    "<center><img src=\"https://i.imgur.com/zRrFdsf.png\" width=\"700\"></center>\n",
    "\n",
    "\n",
    "# Formatting Data (dates)\n",
    "\n",
    "It is very common to find dates (some combination of year, month, day of week and time) in data that is collected in real time (and other that organize event information.\n",
    "\n",
    "Let's see a data frame that comes with dates from an API."
   ]
  },
  {
   "cell_type": "code",
   "execution_count": 1,
   "id": "75f3c948",
   "metadata": {},
   "outputs": [
    {
     "name": "stderr",
     "output_type": "stream",
     "text": [
      "WARNING:root:Requests made without an app_token will be subject to strict throttling limits.\n"
     ]
    }
   ],
   "source": [
    "import pandas as pd\n",
    "from sodapy import Socrata\n",
    "\n",
    "client = Socrata(\"data.seattle.gov\", None)\n",
    "\n",
    "results = client.get(\"kzjm-xkqj\", limit=2000)\n",
    "\n",
    "# Convert to pandas DataFrame\n",
    "calls911 = pd.DataFrame.from_records(results)"
   ]
  },
  {
   "cell_type": "markdown",
   "id": "33d1b686",
   "metadata": {},
   "source": [
    "Let's check some information:"
   ]
  },
  {
   "cell_type": "code",
   "execution_count": 2,
   "id": "8b6e8130",
   "metadata": {},
   "outputs": [
    {
     "name": "stdout",
     "output_type": "stream",
     "text": [
      "<class 'pandas.core.frame.DataFrame'>\n",
      "RangeIndex: 2000 entries, 0 to 1999\n",
      "Data columns (total 12 columns):\n",
      " #   Column                       Non-Null Count  Dtype \n",
      "---  ------                       --------------  ----- \n",
      " 0   address                      2000 non-null   object\n",
      " 1   type                         2000 non-null   object\n",
      " 2   datetime                     2000 non-null   object\n",
      " 3   latitude                     1999 non-null   object\n",
      " 4   longitude                    1999 non-null   object\n",
      " 5   report_location              1999 non-null   object\n",
      " 6   incident_number              2000 non-null   object\n",
      " 7   :@computed_region_ru88_fbhk  1991 non-null   object\n",
      " 8   :@computed_region_kuhn_3gp2  1991 non-null   object\n",
      " 9   :@computed_region_q256_3sug  1999 non-null   object\n",
      " 10  :@computed_region_2day_rhn5  151 non-null    object\n",
      " 11  :@computed_region_cyqu_gs94  141 non-null    object\n",
      "dtypes: object(12)\n",
      "memory usage: 187.6+ KB\n"
     ]
    }
   ],
   "source": [
    "calls911.info()"
   ]
  },
  {
   "cell_type": "markdown",
   "id": "411ee94b",
   "metadata": {},
   "source": [
    "Let's get rid of some columns:"
   ]
  },
  {
   "cell_type": "code",
   "execution_count": 3,
   "id": "ff87b95f",
   "metadata": {},
   "outputs": [],
   "source": [
    "calls911=calls911.iloc[:,:7]"
   ]
  },
  {
   "cell_type": "markdown",
   "id": "ea1b71f9",
   "metadata": {},
   "source": [
    "Let's check the column _datetime_:"
   ]
  },
  {
   "cell_type": "code",
   "execution_count": 4,
   "id": "c61dade2",
   "metadata": {},
   "outputs": [
    {
     "data": {
      "text/plain": [
       "0    2023-05-04T13:09:00.000\n",
       "1    2023-05-04T13:03:00.000\n",
       "2    2023-05-04T13:02:00.000\n",
       "3    2023-05-04T13:02:00.000\n",
       "4    2023-05-04T12:52:00.000\n",
       "Name: datetime, dtype: object"
      ]
     },
     "execution_count": 4,
     "metadata": {},
     "output_type": "execute_result"
    }
   ],
   "source": [
    "calls911.datetime.head()"
   ]
  },
  {
   "cell_type": "code",
   "execution_count": 5,
   "id": "0685a26d",
   "metadata": {},
   "outputs": [
    {
     "data": {
      "text/plain": [
       "str"
      ]
     },
     "execution_count": 5,
     "metadata": {},
     "output_type": "execute_result"
    }
   ],
   "source": [
    "# then\n",
    "type(calls911.datetime[0])"
   ]
  },
  {
   "cell_type": "markdown",
   "id": "bf7e8e20",
   "metadata": {},
   "source": [
    "The date and time information is not useful at this time, that is, the information it offers is of limited use, as it is just a string. \n",
    "\n",
    "Let's make it useful:"
   ]
  },
  {
   "cell_type": "code",
   "execution_count": 6,
   "id": "3e232c75",
   "metadata": {
    "scrolled": true
   },
   "outputs": [
    {
     "name": "stdout",
     "output_type": "stream",
     "text": [
      "<class 'pandas.core.frame.DataFrame'>\n",
      "RangeIndex: 2000 entries, 0 to 1999\n",
      "Data columns (total 7 columns):\n",
      " #   Column           Non-Null Count  Dtype         \n",
      "---  ------           --------------  -----         \n",
      " 0   address          2000 non-null   object        \n",
      " 1   type             2000 non-null   object        \n",
      " 2   datetime         2000 non-null   datetime64[ns]\n",
      " 3   latitude         1999 non-null   object        \n",
      " 4   longitude        1999 non-null   object        \n",
      " 5   report_location  1999 non-null   object        \n",
      " 6   incident_number  2000 non-null   object        \n",
      "dtypes: datetime64[ns](1), object(6)\n",
      "memory usage: 109.5+ KB\n"
     ]
    }
   ],
   "source": [
    "calls911.datetime=pd.to_datetime(calls911.datetime,format='%Y-%m-%d')\n",
    "calls911.info()"
   ]
  },
  {
   "cell_type": "markdown",
   "id": "b90004bf",
   "metadata": {},
   "source": [
    "Once you have this data type, you can retrieve important information:"
   ]
  },
  {
   "cell_type": "code",
   "execution_count": 7,
   "id": "0d7637b8",
   "metadata": {},
   "outputs": [],
   "source": [
    "calls911['date']=calls911.datetime.dt.date\n",
    "calls911['year']=calls911.datetime.dt.year\n",
    "calls911['month']=calls911.datetime.dt.month\n",
    "calls911['month_name']=calls911.datetime.dt.month_name()\n",
    "calls911['day']=calls911.datetime.dt.day\n",
    "calls911['weekday']=calls911.datetime.dt.day_name()\n",
    "calls911['hour']=calls911.datetime.dt.hour\n",
    "calls911['minute']=calls911.datetime.dt.minute"
   ]
  },
  {
   "cell_type": "code",
   "execution_count": 8,
   "id": "6c1581d8",
   "metadata": {},
   "outputs": [
    {
     "data": {
      "text/html": [
       "<div>\n",
       "<style scoped>\n",
       "    .dataframe tbody tr th:only-of-type {\n",
       "        vertical-align: middle;\n",
       "    }\n",
       "\n",
       "    .dataframe tbody tr th {\n",
       "        vertical-align: top;\n",
       "    }\n",
       "\n",
       "    .dataframe thead th {\n",
       "        text-align: right;\n",
       "    }\n",
       "</style>\n",
       "<table border=\"1\" class=\"dataframe\">\n",
       "  <thead>\n",
       "    <tr style=\"text-align: right;\">\n",
       "      <th></th>\n",
       "      <th>address</th>\n",
       "      <th>type</th>\n",
       "      <th>datetime</th>\n",
       "      <th>latitude</th>\n",
       "      <th>longitude</th>\n",
       "      <th>report_location</th>\n",
       "      <th>incident_number</th>\n",
       "      <th>date</th>\n",
       "      <th>year</th>\n",
       "      <th>month</th>\n",
       "      <th>month_name</th>\n",
       "      <th>day</th>\n",
       "      <th>weekday</th>\n",
       "      <th>hour</th>\n",
       "      <th>minute</th>\n",
       "    </tr>\n",
       "  </thead>\n",
       "  <tbody>\n",
       "    <tr>\n",
       "      <th>0</th>\n",
       "      <td>509 10th Ave E</td>\n",
       "      <td>Aid Response</td>\n",
       "      <td>2023-05-04 13:09:00</td>\n",
       "      <td>47.623218</td>\n",
       "      <td>-122.319906</td>\n",
       "      <td>{'type': 'Point', 'coordinates': [-122.319906,...</td>\n",
       "      <td>F230053743</td>\n",
       "      <td>2023-05-04</td>\n",
       "      <td>2023</td>\n",
       "      <td>5</td>\n",
       "      <td>May</td>\n",
       "      <td>4</td>\n",
       "      <td>Thursday</td>\n",
       "      <td>13</td>\n",
       "      <td>9</td>\n",
       "    </tr>\n",
       "    <tr>\n",
       "      <th>1</th>\n",
       "      <td>1430 2nd Ave</td>\n",
       "      <td>Aid Response</td>\n",
       "      <td>2023-05-04 13:03:00</td>\n",
       "      <td>47.608586</td>\n",
       "      <td>-122.338264</td>\n",
       "      <td>{'type': 'Point', 'coordinates': [-122.338264,...</td>\n",
       "      <td>F230053742</td>\n",
       "      <td>2023-05-04</td>\n",
       "      <td>2023</td>\n",
       "      <td>5</td>\n",
       "      <td>May</td>\n",
       "      <td>4</td>\n",
       "      <td>Thursday</td>\n",
       "      <td>13</td>\n",
       "      <td>3</td>\n",
       "    </tr>\n",
       "    <tr>\n",
       "      <th>2</th>\n",
       "      <td>1510 Nw 52nd St</td>\n",
       "      <td>Medic Response- Overdose</td>\n",
       "      <td>2023-05-04 13:02:00</td>\n",
       "      <td>47.666433</td>\n",
       "      <td>-122.376341</td>\n",
       "      <td>{'type': 'Point', 'coordinates': [-122.376341,...</td>\n",
       "      <td>F230053740</td>\n",
       "      <td>2023-05-04</td>\n",
       "      <td>2023</td>\n",
       "      <td>5</td>\n",
       "      <td>May</td>\n",
       "      <td>4</td>\n",
       "      <td>Thursday</td>\n",
       "      <td>13</td>\n",
       "      <td>2</td>\n",
       "    </tr>\n",
       "    <tr>\n",
       "      <th>3</th>\n",
       "      <td>1105 E Fir St</td>\n",
       "      <td>Medic Response</td>\n",
       "      <td>2023-05-04 13:02:00</td>\n",
       "      <td>47.602688</td>\n",
       "      <td>-122.318034</td>\n",
       "      <td>{'type': 'Point', 'coordinates': [-122.318034,...</td>\n",
       "      <td>F230053741</td>\n",
       "      <td>2023-05-04</td>\n",
       "      <td>2023</td>\n",
       "      <td>5</td>\n",
       "      <td>May</td>\n",
       "      <td>4</td>\n",
       "      <td>Thursday</td>\n",
       "      <td>13</td>\n",
       "      <td>2</td>\n",
       "    </tr>\n",
       "    <tr>\n",
       "      <th>4</th>\n",
       "      <td>4219 S Othello St</td>\n",
       "      <td>Crisis Center</td>\n",
       "      <td>2023-05-04 12:52:00</td>\n",
       "      <td>47.53705</td>\n",
       "      <td>-122.280473</td>\n",
       "      <td>{'type': 'Point', 'coordinates': [-122.280473,...</td>\n",
       "      <td>F230053738</td>\n",
       "      <td>2023-05-04</td>\n",
       "      <td>2023</td>\n",
       "      <td>5</td>\n",
       "      <td>May</td>\n",
       "      <td>4</td>\n",
       "      <td>Thursday</td>\n",
       "      <td>12</td>\n",
       "      <td>52</td>\n",
       "    </tr>\n",
       "  </tbody>\n",
       "</table>\n",
       "</div>"
      ],
      "text/plain": [
       "             address                      type            datetime   latitude  \\\n",
       "0     509 10th Ave E              Aid Response 2023-05-04 13:09:00  47.623218   \n",
       "1       1430 2nd Ave              Aid Response 2023-05-04 13:03:00  47.608586   \n",
       "2    1510 Nw 52nd St  Medic Response- Overdose 2023-05-04 13:02:00  47.666433   \n",
       "3      1105 E Fir St            Medic Response 2023-05-04 13:02:00  47.602688   \n",
       "4  4219 S Othello St             Crisis Center 2023-05-04 12:52:00   47.53705   \n",
       "\n",
       "     longitude                                    report_location  \\\n",
       "0  -122.319906  {'type': 'Point', 'coordinates': [-122.319906,...   \n",
       "1  -122.338264  {'type': 'Point', 'coordinates': [-122.338264,...   \n",
       "2  -122.376341  {'type': 'Point', 'coordinates': [-122.376341,...   \n",
       "3  -122.318034  {'type': 'Point', 'coordinates': [-122.318034,...   \n",
       "4  -122.280473  {'type': 'Point', 'coordinates': [-122.280473,...   \n",
       "\n",
       "  incident_number        date  year  month month_name  day   weekday  hour  \\\n",
       "0      F230053743  2023-05-04  2023      5        May    4  Thursday    13   \n",
       "1      F230053742  2023-05-04  2023      5        May    4  Thursday    13   \n",
       "2      F230053740  2023-05-04  2023      5        May    4  Thursday    13   \n",
       "3      F230053741  2023-05-04  2023      5        May    4  Thursday    13   \n",
       "4      F230053738  2023-05-04  2023      5        May    4  Thursday    12   \n",
       "\n",
       "   minute  \n",
       "0       9  \n",
       "1       3  \n",
       "2       2  \n",
       "3       2  \n",
       "4      52  "
      ]
     },
     "execution_count": 8,
     "metadata": {},
     "output_type": "execute_result"
    }
   ],
   "source": [
    "calls911.head()"
   ]
  },
  {
   "cell_type": "markdown",
   "id": "5aee7d81",
   "metadata": {},
   "source": [
    "Let's create a new column with what we have. In this case, a boolean where you tell if it is night time (after 8 pm before 6 am):"
   ]
  },
  {
   "cell_type": "code",
   "execution_count": 9,
   "id": "335b1a0f",
   "metadata": {},
   "outputs": [],
   "source": [
    "calls911['nightTime']=((calls911['hour']<=6) | (calls911['hour']>=20))"
   ]
  },
  {
   "cell_type": "markdown",
   "id": "28280f34",
   "metadata": {},
   "source": [
    "Can we use several columns to build a _datetime_?"
   ]
  },
  {
   "cell_type": "code",
   "execution_count": 10,
   "id": "3afa4a2d",
   "metadata": {},
   "outputs": [
    {
     "data": {
      "text/plain": [
       "0      2023-05-04 13:09:00\n",
       "1      2023-05-04 13:03:00\n",
       "2      2023-05-04 13:02:00\n",
       "3      2023-05-04 13:02:00\n",
       "4      2023-05-04 12:52:00\n",
       "               ...        \n",
       "1995   2023-04-28 19:28:00\n",
       "1996   2023-04-28 19:28:00\n",
       "1997   2023-04-28 19:26:00\n",
       "1998   2023-04-28 19:22:00\n",
       "1999   2023-04-28 19:20:00\n",
       "Length: 2000, dtype: datetime64[ns]"
      ]
     },
     "execution_count": 10,
     "metadata": {},
     "output_type": "execute_result"
    }
   ],
   "source": [
    "pd.to_datetime(calls911[['month', 'day','year','hour','minute']])"
   ]
  },
  {
   "cell_type": "markdown",
   "id": "b35551dd",
   "metadata": {},
   "source": [
    "Notice that the columns about lat/long are non numeric, let's solve that:"
   ]
  },
  {
   "cell_type": "code",
   "execution_count": 11,
   "id": "21032db1",
   "metadata": {},
   "outputs": [],
   "source": [
    "calls911[['longitude','latitude']]=calls911[['longitude','latitude']].apply(lambda x:pd.to_numeric(x))"
   ]
  },
  {
   "cell_type": "code",
   "execution_count": 12,
   "id": "a8add445",
   "metadata": {},
   "outputs": [
    {
     "name": "stdout",
     "output_type": "stream",
     "text": [
      "<class 'pandas.core.frame.DataFrame'>\n",
      "RangeIndex: 2000 entries, 0 to 1999\n",
      "Data columns (total 16 columns):\n",
      " #   Column           Non-Null Count  Dtype         \n",
      "---  ------           --------------  -----         \n",
      " 0   address          2000 non-null   object        \n",
      " 1   type             2000 non-null   object        \n",
      " 2   datetime         2000 non-null   datetime64[ns]\n",
      " 3   latitude         1999 non-null   float64       \n",
      " 4   longitude        1999 non-null   float64       \n",
      " 5   report_location  1999 non-null   object        \n",
      " 6   incident_number  2000 non-null   object        \n",
      " 7   date             2000 non-null   object        \n",
      " 8   year             2000 non-null   int64         \n",
      " 9   month            2000 non-null   int64         \n",
      " 10  month_name       2000 non-null   object        \n",
      " 11  day              2000 non-null   int64         \n",
      " 12  weekday          2000 non-null   object        \n",
      " 13  hour             2000 non-null   int64         \n",
      " 14  minute           2000 non-null   int64         \n",
      " 15  nightTime        2000 non-null   bool          \n",
      "dtypes: bool(1), datetime64[ns](1), float64(2), int64(5), object(7)\n",
      "memory usage: 236.5+ KB\n"
     ]
    }
   ],
   "source": [
    "#re check\n",
    "calls911.info()"
   ]
  },
  {
   "cell_type": "markdown",
   "id": "b60afa87",
   "metadata": {},
   "source": [
    "Let's save what we have:"
   ]
  },
  {
   "cell_type": "code",
   "execution_count": 13,
   "id": "954e790c",
   "metadata": {},
   "outputs": [],
   "source": [
    "import os\n",
    "\n",
    "where=os.path.join('data','calls911.pkl')\n",
    "calls911.to_pickle(where)"
   ]
  },
  {
   "cell_type": "code",
   "execution_count": null,
   "id": "b3c281bc",
   "metadata": {},
   "outputs": [],
   "source": []
  }
 ],
 "metadata": {
  "kernelspec": {
   "display_name": "Python 3 (ipykernel)",
   "language": "python",
   "name": "python3"
  },
  "language_info": {
   "codemirror_mode": {
    "name": "ipython",
    "version": 3
   },
   "file_extension": ".py",
   "mimetype": "text/x-python",
   "name": "python",
   "nbconvert_exporter": "python",
   "pygments_lexer": "ipython3",
   "version": "3.9.13"
  }
 },
 "nbformat": 4,
 "nbformat_minor": 5
}
